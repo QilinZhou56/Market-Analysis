{
 "cells": [
  {
   "cell_type": "code",
   "execution_count": 1,
   "metadata": {},
   "outputs": [],
   "source": [
    "import os\n",
    "import pandas as pd\n",
    "\n",
    "os.chdir(os.getcwd())"
   ]
  },
  {
   "cell_type": "code",
   "execution_count": 135,
   "metadata": {},
   "outputs": [
    {
     "name": "stdout",
     "output_type": "stream",
     "text": [
      "<class 'pandas.core.frame.DataFrame'>\n",
      "RangeIndex: 1303 entries, 0 to 1302\n",
      "Data columns (total 13 columns):\n",
      " #   Column                    Non-Null Count  Dtype \n",
      "---  ------                    --------------  ----- \n",
      " 0   Manufacturer              1303 non-null   object\n",
      " 1   Model Name                1303 non-null   object\n",
      " 2   Category                  1303 non-null   object\n",
      " 3   Screen Size               1303 non-null   object\n",
      " 4   Screen                    1303 non-null   object\n",
      " 5   CPU                       1303 non-null   object\n",
      " 6   RAM                       1303 non-null   object\n",
      " 7    Storage                  1303 non-null   object\n",
      " 8   GPU                       1303 non-null   object\n",
      " 9   Operating System          1303 non-null   object\n",
      " 10  Operating System Version  1133 non-null   object\n",
      " 11  Weight                    1303 non-null   object\n",
      " 12  Price (Euros)             1303 non-null   object\n",
      "dtypes: object(13)\n",
      "memory usage: 132.5+ KB\n"
     ]
    }
   ],
   "source": [
    "# Step 1: Get a general sense of the dataset\n",
    "laptops = pd.read_csv(\"laptops.csv\", encoding=\"Latin-1\")\n",
    "laptops.info()"
   ]
  },
  {
   "cell_type": "code",
   "execution_count": 136,
   "metadata": {},
   "outputs": [],
   "source": [
    "# Step 2: Relabel columns if needed\n",
    "# Remove whitespace for the Storage column\n",
    "new_columns = []\n",
    "for column in laptops.columns:\n",
    "    new_columns.append(column.strip())\n",
    "\n",
    "laptops.columns = new_columns"
   ]
  },
  {
   "cell_type": "code",
   "execution_count": 137,
   "metadata": {},
   "outputs": [
    {
     "name": "stdout",
     "output_type": "stream",
     "text": [
      "Index(['manufacturer', 'model_name', 'category', 'screen_size', 'screen',\n",
      "       'cpu', 'ram', 'storage', 'gpu', 'os', 'os_version', 'weight',\n",
      "       'price_euros'],\n",
      "      dtype='object')\n"
     ]
    }
   ],
   "source": [
    "# Since we have a variety of upper and lowercase letters in the column labels\n",
    "# Replace spaces with underscores\n",
    "# Remove special characters\n",
    "# Making all labels lowercase\n",
    "# Shortening any long column names\n",
    "\n",
    "\n",
    "def clean_col(col):\n",
    "    col = col.strip()\n",
    "    col = col.replace(\"Operating System\", \"os\")\n",
    "    col = col.replace(\" \", \"_\")\n",
    "    col = col.replace(\"(\", \"\")\n",
    "    col = col.replace(\")\", \"\")\n",
    "    col = col.lower()\n",
    "    return col\n",
    "\n",
    "\n",
    "new_columns = []\n",
    "for c in laptops.columns:\n",
    "    clean_c = clean_col(c)\n",
    "    new_columns.append(clean_c)\n",
    "\n",
    "laptops.columns = new_columns\n",
    "print(laptops.columns)"
   ]
  },
  {
   "cell_type": "code",
   "execution_count": 138,
   "metadata": {},
   "outputs": [
    {
     "data": {
      "text/html": [
       "<div>\n",
       "<style scoped>\n",
       "    .dataframe tbody tr th:only-of-type {\n",
       "        vertical-align: middle;\n",
       "    }\n",
       "\n",
       "    .dataframe tbody tr th {\n",
       "        vertical-align: top;\n",
       "    }\n",
       "\n",
       "    .dataframe thead th {\n",
       "        text-align: right;\n",
       "    }\n",
       "</style>\n",
       "<table border=\"1\" class=\"dataframe\">\n",
       "  <thead>\n",
       "    <tr style=\"text-align: right;\">\n",
       "      <th></th>\n",
       "      <th>manufacturer</th>\n",
       "      <th>model_name</th>\n",
       "      <th>category</th>\n",
       "      <th>screen_size</th>\n",
       "      <th>screen</th>\n",
       "      <th>cpu</th>\n",
       "      <th>ram</th>\n",
       "      <th>storage</th>\n",
       "      <th>gpu</th>\n",
       "      <th>os</th>\n",
       "      <th>os_version</th>\n",
       "      <th>weight</th>\n",
       "      <th>price_euros</th>\n",
       "    </tr>\n",
       "  </thead>\n",
       "  <tbody>\n",
       "    <tr>\n",
       "      <th>0</th>\n",
       "      <td>Apple</td>\n",
       "      <td>MacBook Pro</td>\n",
       "      <td>Ultrabook</td>\n",
       "      <td>13.3\"</td>\n",
       "      <td>IPS Panel Retina Display 2560x1600</td>\n",
       "      <td>Intel Core i5 2.3GHz</td>\n",
       "      <td>8GB</td>\n",
       "      <td>128GB SSD</td>\n",
       "      <td>Intel Iris Plus Graphics 640</td>\n",
       "      <td>macOS</td>\n",
       "      <td>NaN</td>\n",
       "      <td>1.37kg</td>\n",
       "      <td>1339,69</td>\n",
       "    </tr>\n",
       "    <tr>\n",
       "      <th>1</th>\n",
       "      <td>Apple</td>\n",
       "      <td>Macbook Air</td>\n",
       "      <td>Ultrabook</td>\n",
       "      <td>13.3\"</td>\n",
       "      <td>1440x900</td>\n",
       "      <td>Intel Core i5 1.8GHz</td>\n",
       "      <td>8GB</td>\n",
       "      <td>128GB Flash Storage</td>\n",
       "      <td>Intel HD Graphics 6000</td>\n",
       "      <td>macOS</td>\n",
       "      <td>NaN</td>\n",
       "      <td>1.34kg</td>\n",
       "      <td>898,94</td>\n",
       "    </tr>\n",
       "    <tr>\n",
       "      <th>2</th>\n",
       "      <td>HP</td>\n",
       "      <td>250 G6</td>\n",
       "      <td>Notebook</td>\n",
       "      <td>15.6\"</td>\n",
       "      <td>Full HD 1920x1080</td>\n",
       "      <td>Intel Core i5 7200U 2.5GHz</td>\n",
       "      <td>8GB</td>\n",
       "      <td>256GB SSD</td>\n",
       "      <td>Intel HD Graphics 620</td>\n",
       "      <td>No OS</td>\n",
       "      <td>NaN</td>\n",
       "      <td>1.86kg</td>\n",
       "      <td>575,00</td>\n",
       "    </tr>\n",
       "    <tr>\n",
       "      <th>3</th>\n",
       "      <td>Apple</td>\n",
       "      <td>MacBook Pro</td>\n",
       "      <td>Ultrabook</td>\n",
       "      <td>15.4\"</td>\n",
       "      <td>IPS Panel Retina Display 2880x1800</td>\n",
       "      <td>Intel Core i7 2.7GHz</td>\n",
       "      <td>16GB</td>\n",
       "      <td>512GB SSD</td>\n",
       "      <td>AMD Radeon Pro 455</td>\n",
       "      <td>macOS</td>\n",
       "      <td>NaN</td>\n",
       "      <td>1.83kg</td>\n",
       "      <td>2537,45</td>\n",
       "    </tr>\n",
       "    <tr>\n",
       "      <th>4</th>\n",
       "      <td>Apple</td>\n",
       "      <td>MacBook Pro</td>\n",
       "      <td>Ultrabook</td>\n",
       "      <td>13.3\"</td>\n",
       "      <td>IPS Panel Retina Display 2560x1600</td>\n",
       "      <td>Intel Core i5 3.1GHz</td>\n",
       "      <td>8GB</td>\n",
       "      <td>256GB SSD</td>\n",
       "      <td>Intel Iris Plus Graphics 650</td>\n",
       "      <td>macOS</td>\n",
       "      <td>NaN</td>\n",
       "      <td>1.37kg</td>\n",
       "      <td>1803,60</td>\n",
       "    </tr>\n",
       "    <tr>\n",
       "      <th>5</th>\n",
       "      <td>Acer</td>\n",
       "      <td>Aspire 3</td>\n",
       "      <td>Notebook</td>\n",
       "      <td>15.6\"</td>\n",
       "      <td>1366x768</td>\n",
       "      <td>AMD A9-Series 9420 3GHz</td>\n",
       "      <td>4GB</td>\n",
       "      <td>500GB HDD</td>\n",
       "      <td>AMD Radeon R5</td>\n",
       "      <td>Windows</td>\n",
       "      <td>10</td>\n",
       "      <td>2.1kg</td>\n",
       "      <td>400,00</td>\n",
       "    </tr>\n",
       "    <tr>\n",
       "      <th>6</th>\n",
       "      <td>Apple</td>\n",
       "      <td>MacBook Pro</td>\n",
       "      <td>Ultrabook</td>\n",
       "      <td>15.4\"</td>\n",
       "      <td>IPS Panel Retina Display 2880x1800</td>\n",
       "      <td>Intel Core i7 2.2GHz</td>\n",
       "      <td>16GB</td>\n",
       "      <td>256GB Flash Storage</td>\n",
       "      <td>Intel Iris Pro Graphics</td>\n",
       "      <td>Mac OS</td>\n",
       "      <td>X</td>\n",
       "      <td>2.04kg</td>\n",
       "      <td>2139,97</td>\n",
       "    </tr>\n",
       "    <tr>\n",
       "      <th>7</th>\n",
       "      <td>Apple</td>\n",
       "      <td>Macbook Air</td>\n",
       "      <td>Ultrabook</td>\n",
       "      <td>13.3\"</td>\n",
       "      <td>1440x900</td>\n",
       "      <td>Intel Core i5 1.8GHz</td>\n",
       "      <td>8GB</td>\n",
       "      <td>256GB Flash Storage</td>\n",
       "      <td>Intel HD Graphics 6000</td>\n",
       "      <td>macOS</td>\n",
       "      <td>NaN</td>\n",
       "      <td>1.34kg</td>\n",
       "      <td>1158,70</td>\n",
       "    </tr>\n",
       "    <tr>\n",
       "      <th>8</th>\n",
       "      <td>Asus</td>\n",
       "      <td>ZenBook UX430UN</td>\n",
       "      <td>Ultrabook</td>\n",
       "      <td>14.0\"</td>\n",
       "      <td>Full HD 1920x1080</td>\n",
       "      <td>Intel Core i7 8550U 1.8GHz</td>\n",
       "      <td>16GB</td>\n",
       "      <td>512GB SSD</td>\n",
       "      <td>Nvidia GeForce MX150</td>\n",
       "      <td>Windows</td>\n",
       "      <td>10</td>\n",
       "      <td>1.3kg</td>\n",
       "      <td>1495,00</td>\n",
       "    </tr>\n",
       "    <tr>\n",
       "      <th>9</th>\n",
       "      <td>Acer</td>\n",
       "      <td>Swift 3</td>\n",
       "      <td>Ultrabook</td>\n",
       "      <td>14.0\"</td>\n",
       "      <td>IPS Panel Full HD 1920x1080</td>\n",
       "      <td>Intel Core i5 8250U 1.6GHz</td>\n",
       "      <td>8GB</td>\n",
       "      <td>256GB SSD</td>\n",
       "      <td>Intel UHD Graphics 620</td>\n",
       "      <td>Windows</td>\n",
       "      <td>10</td>\n",
       "      <td>1.6kg</td>\n",
       "      <td>770,00</td>\n",
       "    </tr>\n",
       "  </tbody>\n",
       "</table>\n",
       "</div>"
      ],
      "text/plain": [
       "  manufacturer       model_name   category screen_size  \\\n",
       "0        Apple      MacBook Pro  Ultrabook       13.3\"   \n",
       "1        Apple      Macbook Air  Ultrabook       13.3\"   \n",
       "2           HP           250 G6   Notebook       15.6\"   \n",
       "3        Apple      MacBook Pro  Ultrabook       15.4\"   \n",
       "4        Apple      MacBook Pro  Ultrabook       13.3\"   \n",
       "5         Acer         Aspire 3   Notebook       15.6\"   \n",
       "6        Apple      MacBook Pro  Ultrabook       15.4\"   \n",
       "7        Apple      Macbook Air  Ultrabook       13.3\"   \n",
       "8         Asus  ZenBook UX430UN  Ultrabook       14.0\"   \n",
       "9         Acer          Swift 3  Ultrabook       14.0\"   \n",
       "\n",
       "                               screen                         cpu   ram  \\\n",
       "0  IPS Panel Retina Display 2560x1600        Intel Core i5 2.3GHz   8GB   \n",
       "1                            1440x900        Intel Core i5 1.8GHz   8GB   \n",
       "2                   Full HD 1920x1080  Intel Core i5 7200U 2.5GHz   8GB   \n",
       "3  IPS Panel Retina Display 2880x1800        Intel Core i7 2.7GHz  16GB   \n",
       "4  IPS Panel Retina Display 2560x1600        Intel Core i5 3.1GHz   8GB   \n",
       "5                            1366x768     AMD A9-Series 9420 3GHz   4GB   \n",
       "6  IPS Panel Retina Display 2880x1800        Intel Core i7 2.2GHz  16GB   \n",
       "7                            1440x900        Intel Core i5 1.8GHz   8GB   \n",
       "8                   Full HD 1920x1080  Intel Core i7 8550U 1.8GHz  16GB   \n",
       "9         IPS Panel Full HD 1920x1080  Intel Core i5 8250U 1.6GHz   8GB   \n",
       "\n",
       "               storage                           gpu       os os_version  \\\n",
       "0            128GB SSD  Intel Iris Plus Graphics 640    macOS        NaN   \n",
       "1  128GB Flash Storage        Intel HD Graphics 6000    macOS        NaN   \n",
       "2            256GB SSD         Intel HD Graphics 620    No OS        NaN   \n",
       "3            512GB SSD            AMD Radeon Pro 455    macOS        NaN   \n",
       "4            256GB SSD  Intel Iris Plus Graphics 650    macOS        NaN   \n",
       "5            500GB HDD                 AMD Radeon R5  Windows         10   \n",
       "6  256GB Flash Storage       Intel Iris Pro Graphics   Mac OS          X   \n",
       "7  256GB Flash Storage        Intel HD Graphics 6000    macOS        NaN   \n",
       "8            512GB SSD          Nvidia GeForce MX150  Windows         10   \n",
       "9            256GB SSD        Intel UHD Graphics 620  Windows         10   \n",
       "\n",
       "   weight price_euros  \n",
       "0  1.37kg     1339,69  \n",
       "1  1.34kg      898,94  \n",
       "2  1.86kg      575,00  \n",
       "3  1.83kg     2537,45  \n",
       "4  1.37kg     1803,60  \n",
       "5   2.1kg      400,00  \n",
       "6  2.04kg     2139,97  \n",
       "7  1.34kg     1158,70  \n",
       "8   1.3kg     1495,00  \n",
       "9   1.6kg      770,00  "
      ]
     },
     "execution_count": 138,
     "metadata": {},
     "output_type": "execute_result"
    }
   ],
   "source": [
    "# Step 3: Convert string columns to numeric if needed\n",
    "# Look at a few rows\n",
    "laptops.head(10)"
   ]
  },
  {
   "cell_type": "code",
   "execution_count": 139,
   "metadata": {},
   "outputs": [],
   "source": [
    "# screen_size, ram, weight, price_euros often evaluated as numeric\n",
    "laptops[\"weight\"] = laptops[\"weight\"].str.replace(r\"[a-zA-Z]+$\", \"\", regex=True)\n",
    "laptops[\"screen_size\"] = laptops[\"screen_size\"].str.replace('\"', \"\")\n",
    "laptops[\"ram\"] = laptops[\"ram\"].str.replace(r\"[a-zA-Z]+$\", \"\", regex=True)"
   ]
  },
  {
   "cell_type": "code",
   "execution_count": 140,
   "metadata": {},
   "outputs": [],
   "source": [
    "laptops[\"price_euros\"] = laptops[\"price_euros\"].str.replace(\",\", \".\")"
   ]
  },
  {
   "cell_type": "code",
   "execution_count": 141,
   "metadata": {},
   "outputs": [
    {
     "data": {
      "text/html": [
       "<div>\n",
       "<style scoped>\n",
       "    .dataframe tbody tr th:only-of-type {\n",
       "        vertical-align: middle;\n",
       "    }\n",
       "\n",
       "    .dataframe tbody tr th {\n",
       "        vertical-align: top;\n",
       "    }\n",
       "\n",
       "    .dataframe thead th {\n",
       "        text-align: right;\n",
       "    }\n",
       "</style>\n",
       "<table border=\"1\" class=\"dataframe\">\n",
       "  <thead>\n",
       "    <tr style=\"text-align: right;\">\n",
       "      <th></th>\n",
       "      <th>manufacturer</th>\n",
       "      <th>model_name</th>\n",
       "      <th>category</th>\n",
       "      <th>screen_size</th>\n",
       "      <th>screen</th>\n",
       "      <th>cpu</th>\n",
       "      <th>ram</th>\n",
       "      <th>storage</th>\n",
       "      <th>gpu</th>\n",
       "      <th>os</th>\n",
       "      <th>os_version</th>\n",
       "      <th>weight</th>\n",
       "      <th>price_euros</th>\n",
       "    </tr>\n",
       "  </thead>\n",
       "  <tbody>\n",
       "    <tr>\n",
       "      <th>0</th>\n",
       "      <td>Apple</td>\n",
       "      <td>MacBook Pro</td>\n",
       "      <td>Ultrabook</td>\n",
       "      <td>13.3</td>\n",
       "      <td>IPS Panel Retina Display 2560x1600</td>\n",
       "      <td>Intel Core i5 2.3GHz</td>\n",
       "      <td>8</td>\n",
       "      <td>128GB SSD</td>\n",
       "      <td>Intel Iris Plus Graphics 640</td>\n",
       "      <td>macOS</td>\n",
       "      <td>NaN</td>\n",
       "      <td>1.37</td>\n",
       "      <td>1339.69</td>\n",
       "    </tr>\n",
       "    <tr>\n",
       "      <th>1</th>\n",
       "      <td>Apple</td>\n",
       "      <td>Macbook Air</td>\n",
       "      <td>Ultrabook</td>\n",
       "      <td>13.3</td>\n",
       "      <td>1440x900</td>\n",
       "      <td>Intel Core i5 1.8GHz</td>\n",
       "      <td>8</td>\n",
       "      <td>128GB Flash Storage</td>\n",
       "      <td>Intel HD Graphics 6000</td>\n",
       "      <td>macOS</td>\n",
       "      <td>NaN</td>\n",
       "      <td>1.34</td>\n",
       "      <td>898.94</td>\n",
       "    </tr>\n",
       "    <tr>\n",
       "      <th>2</th>\n",
       "      <td>HP</td>\n",
       "      <td>250 G6</td>\n",
       "      <td>Notebook</td>\n",
       "      <td>15.6</td>\n",
       "      <td>Full HD 1920x1080</td>\n",
       "      <td>Intel Core i5 7200U 2.5GHz</td>\n",
       "      <td>8</td>\n",
       "      <td>256GB SSD</td>\n",
       "      <td>Intel HD Graphics 620</td>\n",
       "      <td>No OS</td>\n",
       "      <td>NaN</td>\n",
       "      <td>1.86</td>\n",
       "      <td>575.00</td>\n",
       "    </tr>\n",
       "    <tr>\n",
       "      <th>3</th>\n",
       "      <td>Apple</td>\n",
       "      <td>MacBook Pro</td>\n",
       "      <td>Ultrabook</td>\n",
       "      <td>15.4</td>\n",
       "      <td>IPS Panel Retina Display 2880x1800</td>\n",
       "      <td>Intel Core i7 2.7GHz</td>\n",
       "      <td>16</td>\n",
       "      <td>512GB SSD</td>\n",
       "      <td>AMD Radeon Pro 455</td>\n",
       "      <td>macOS</td>\n",
       "      <td>NaN</td>\n",
       "      <td>1.83</td>\n",
       "      <td>2537.45</td>\n",
       "    </tr>\n",
       "    <tr>\n",
       "      <th>4</th>\n",
       "      <td>Apple</td>\n",
       "      <td>MacBook Pro</td>\n",
       "      <td>Ultrabook</td>\n",
       "      <td>13.3</td>\n",
       "      <td>IPS Panel Retina Display 2560x1600</td>\n",
       "      <td>Intel Core i5 3.1GHz</td>\n",
       "      <td>8</td>\n",
       "      <td>256GB SSD</td>\n",
       "      <td>Intel Iris Plus Graphics 650</td>\n",
       "      <td>macOS</td>\n",
       "      <td>NaN</td>\n",
       "      <td>1.37</td>\n",
       "      <td>1803.60</td>\n",
       "    </tr>\n",
       "  </tbody>\n",
       "</table>\n",
       "</div>"
      ],
      "text/plain": [
       "  manufacturer   model_name   category screen_size  \\\n",
       "0        Apple  MacBook Pro  Ultrabook        13.3   \n",
       "1        Apple  Macbook Air  Ultrabook        13.3   \n",
       "2           HP       250 G6   Notebook        15.6   \n",
       "3        Apple  MacBook Pro  Ultrabook        15.4   \n",
       "4        Apple  MacBook Pro  Ultrabook        13.3   \n",
       "\n",
       "                               screen                         cpu ram  \\\n",
       "0  IPS Panel Retina Display 2560x1600        Intel Core i5 2.3GHz   8   \n",
       "1                            1440x900        Intel Core i5 1.8GHz   8   \n",
       "2                   Full HD 1920x1080  Intel Core i5 7200U 2.5GHz   8   \n",
       "3  IPS Panel Retina Display 2880x1800        Intel Core i7 2.7GHz  16   \n",
       "4  IPS Panel Retina Display 2560x1600        Intel Core i5 3.1GHz   8   \n",
       "\n",
       "               storage                           gpu     os os_version weight  \\\n",
       "0            128GB SSD  Intel Iris Plus Graphics 640  macOS        NaN   1.37   \n",
       "1  128GB Flash Storage        Intel HD Graphics 6000  macOS        NaN   1.34   \n",
       "2            256GB SSD         Intel HD Graphics 620  No OS        NaN   1.86   \n",
       "3            512GB SSD            AMD Radeon Pro 455  macOS        NaN   1.83   \n",
       "4            256GB SSD  Intel Iris Plus Graphics 650  macOS        NaN   1.37   \n",
       "\n",
       "  price_euros  \n",
       "0     1339.69  \n",
       "1      898.94  \n",
       "2      575.00  \n",
       "3     2537.45  \n",
       "4     1803.60  "
      ]
     },
     "execution_count": 141,
     "metadata": {},
     "output_type": "execute_result"
    }
   ],
   "source": [
    "laptops.head()"
   ]
  },
  {
   "cell_type": "code",
   "execution_count": 176,
   "metadata": {},
   "outputs": [
    {
     "data": {
      "text/plain": [
       "weight_kg\n",
       "2.20    126\n",
       "2.10     58\n",
       "2.00     45\n",
       "2.40     44\n",
       "2.30     41\n",
       "       ... \n",
       "4.50      1\n",
       "1.14      1\n",
       "3.80      1\n",
       "3.25      1\n",
       "2.34      1\n",
       "Name: count, Length: 171, dtype: int64"
      ]
     },
     "execution_count": 176,
     "metadata": {},
     "output_type": "execute_result"
    }
   ],
   "source": [
    "laptops[\"weight_kg\"].value_counts()"
   ]
  },
  {
   "cell_type": "code",
   "execution_count": 143,
   "metadata": {},
   "outputs": [],
   "source": [
    "laptops[[\"weight\", \"screen_size\", \"price_euros\"]] = laptops[\n",
    "    [\"weight\", \"screen_size\", \"price_euros\"]\n",
    "].astype(float)\n",
    "laptops[\"ram\"] = laptops[\"ram\"].astype(int)"
   ]
  },
  {
   "cell_type": "code",
   "execution_count": 144,
   "metadata": {},
   "outputs": [
    {
     "data": {
      "text/plain": [
       "manufacturer     object\n",
       "model_name       object\n",
       "category         object\n",
       "screen_size     float64\n",
       "screen           object\n",
       "cpu              object\n",
       "ram               int64\n",
       "storage          object\n",
       "gpu              object\n",
       "os               object\n",
       "os_version       object\n",
       "weight          float64\n",
       "price_euros     float64\n",
       "dtype: object"
      ]
     },
     "execution_count": 144,
     "metadata": {},
     "output_type": "execute_result"
    }
   ],
   "source": [
    "laptops.dtypes"
   ]
  },
  {
   "cell_type": "code",
   "execution_count": 145,
   "metadata": {},
   "outputs": [],
   "source": [
    "laptops.rename(\n",
    "    {\"screen_size\": \"screen_size_inches\", \"ram\": \"ram_gb\", \"weight\": \"weight_kg\"},\n",
    "    axis=1,\n",
    "    inplace=True,\n",
    ")"
   ]
  },
  {
   "cell_type": "code",
   "execution_count": 146,
   "metadata": {},
   "outputs": [
    {
     "data": {
      "text/html": [
       "<div>\n",
       "<style scoped>\n",
       "    .dataframe tbody tr th:only-of-type {\n",
       "        vertical-align: middle;\n",
       "    }\n",
       "\n",
       "    .dataframe tbody tr th {\n",
       "        vertical-align: top;\n",
       "    }\n",
       "\n",
       "    .dataframe thead th {\n",
       "        text-align: right;\n",
       "    }\n",
       "</style>\n",
       "<table border=\"1\" class=\"dataframe\">\n",
       "  <thead>\n",
       "    <tr style=\"text-align: right;\">\n",
       "      <th></th>\n",
       "      <th>screen_size_inches</th>\n",
       "      <th>ram_gb</th>\n",
       "      <th>weight_kg</th>\n",
       "      <th>price_euros</th>\n",
       "    </tr>\n",
       "  </thead>\n",
       "  <tbody>\n",
       "    <tr>\n",
       "      <th>count</th>\n",
       "      <td>1303.000000</td>\n",
       "      <td>1303.000000</td>\n",
       "      <td>1303.000000</td>\n",
       "      <td>1303.000000</td>\n",
       "    </tr>\n",
       "    <tr>\n",
       "      <th>mean</th>\n",
       "      <td>15.017191</td>\n",
       "      <td>8.382195</td>\n",
       "      <td>2.038734</td>\n",
       "      <td>1123.686992</td>\n",
       "    </tr>\n",
       "    <tr>\n",
       "      <th>std</th>\n",
       "      <td>1.426304</td>\n",
       "      <td>5.084665</td>\n",
       "      <td>0.665475</td>\n",
       "      <td>699.009043</td>\n",
       "    </tr>\n",
       "    <tr>\n",
       "      <th>min</th>\n",
       "      <td>10.100000</td>\n",
       "      <td>2.000000</td>\n",
       "      <td>0.690000</td>\n",
       "      <td>174.000000</td>\n",
       "    </tr>\n",
       "    <tr>\n",
       "      <th>25%</th>\n",
       "      <td>14.000000</td>\n",
       "      <td>4.000000</td>\n",
       "      <td>1.500000</td>\n",
       "      <td>599.000000</td>\n",
       "    </tr>\n",
       "    <tr>\n",
       "      <th>50%</th>\n",
       "      <td>15.600000</td>\n",
       "      <td>8.000000</td>\n",
       "      <td>2.040000</td>\n",
       "      <td>977.000000</td>\n",
       "    </tr>\n",
       "    <tr>\n",
       "      <th>75%</th>\n",
       "      <td>15.600000</td>\n",
       "      <td>8.000000</td>\n",
       "      <td>2.300000</td>\n",
       "      <td>1487.880000</td>\n",
       "    </tr>\n",
       "    <tr>\n",
       "      <th>max</th>\n",
       "      <td>18.400000</td>\n",
       "      <td>64.000000</td>\n",
       "      <td>4.700000</td>\n",
       "      <td>6099.000000</td>\n",
       "    </tr>\n",
       "  </tbody>\n",
       "</table>\n",
       "</div>"
      ],
      "text/plain": [
       "       screen_size_inches       ram_gb    weight_kg  price_euros\n",
       "count         1303.000000  1303.000000  1303.000000  1303.000000\n",
       "mean            15.017191     8.382195     2.038734  1123.686992\n",
       "std              1.426304     5.084665     0.665475   699.009043\n",
       "min             10.100000     2.000000     0.690000   174.000000\n",
       "25%             14.000000     4.000000     1.500000   599.000000\n",
       "50%             15.600000     8.000000     2.040000   977.000000\n",
       "75%             15.600000     8.000000     2.300000  1487.880000\n",
       "max             18.400000    64.000000     4.700000  6099.000000"
      ]
     },
     "execution_count": 146,
     "metadata": {},
     "output_type": "execute_result"
    }
   ],
   "source": [
    "laptops[[\"screen_size_inches\", \"ram_gb\", \"weight_kg\", \"price_euros\"]].describe()"
   ]
  },
  {
   "cell_type": "code",
   "execution_count": 147,
   "metadata": {},
   "outputs": [],
   "source": [
    "# Step 4: extract values from strings such as the cpu and gpu column\n",
    "laptops[\"cpu_manufacturer\"] = laptops[\"cpu\"].str.split().str[0]\n",
    "laptops[\"gpu_manufacturer\"] = laptops[\"gpu\"].str.split().str[0]"
   ]
  },
  {
   "cell_type": "code",
   "execution_count": 148,
   "metadata": {},
   "outputs": [
    {
     "data": {
      "text/plain": [
       "cpu_manufacturer\n",
       "Intel      1240\n",
       "AMD          62\n",
       "Samsung       1\n",
       "Name: count, dtype: int64"
      ]
     },
     "execution_count": 148,
     "metadata": {},
     "output_type": "execute_result"
    }
   ],
   "source": [
    "laptops[\"cpu_manufacturer\"].value_counts()"
   ]
  },
  {
   "cell_type": "code",
   "execution_count": 149,
   "metadata": {},
   "outputs": [
    {
     "data": {
      "text/plain": [
       "gpu_manufacturer\n",
       "Intel     722\n",
       "Nvidia    400\n",
       "AMD       180\n",
       "ARM         1\n",
       "Name: count, dtype: int64"
      ]
     },
     "execution_count": 149,
     "metadata": {},
     "output_type": "execute_result"
    }
   ],
   "source": [
    "laptops[\"gpu_manufacturer\"].value_counts()"
   ]
  },
  {
   "cell_type": "code",
   "execution_count": 150,
   "metadata": {},
   "outputs": [
    {
     "name": "stdout",
     "output_type": "stream",
     "text": [
      "os\n",
      "Windows      1125\n",
      "No OS          66\n",
      "Linux          62\n",
      "Chrome OS      27\n",
      "macOS          13\n",
      "Mac OS          8\n",
      "Android         2\n",
      "Name: count, dtype: int64\n"
     ]
    }
   ],
   "source": [
    "# Step 5: Correcting Bad Values\n",
    "print(laptops[\"os\"].value_counts())"
   ]
  },
  {
   "cell_type": "code",
   "execution_count": 151,
   "metadata": {},
   "outputs": [],
   "source": [
    "# Two variations of the Apple operating system\n",
    "mapping_dict = {\n",
    "    \"Android\": \"Android\",\n",
    "    \"Chrome OS\": \"Chrome OS\",\n",
    "    \"Linux\": \"Linux\",\n",
    "    \"Mac OS\": \"macOS\",\n",
    "    \"No OS\": \"No OS\",\n",
    "    \"Windows\": \"Windows\",\n",
    "    \"macOS\": \"macOS\",\n",
    "}\n",
    "laptops[\"os\"] = laptops[\"os\"].map(mapping_dict)"
   ]
  },
  {
   "cell_type": "code",
   "execution_count": 152,
   "metadata": {},
   "outputs": [
    {
     "data": {
      "text/plain": [
       "manufacturer            0\n",
       "model_name              0\n",
       "category                0\n",
       "screen_size_inches      0\n",
       "screen                  0\n",
       "cpu                     0\n",
       "ram_gb                  0\n",
       "storage                 0\n",
       "gpu                     0\n",
       "os                      0\n",
       "os_version            170\n",
       "weight_kg               0\n",
       "price_euros             0\n",
       "cpu_manufacturer        0\n",
       "gpu_manufacturer        0\n",
       "dtype: int64"
      ]
     },
     "execution_count": 152,
     "metadata": {},
     "output_type": "execute_result"
    }
   ],
   "source": [
    "# Step 6: Deal with missing values\n",
    "laptops.isnull().sum()"
   ]
  },
  {
   "cell_type": "code",
   "execution_count": 153,
   "metadata": {},
   "outputs": [
    {
     "data": {
      "text/plain": [
       "os_version\n",
       "10      1072\n",
       "NaN      170\n",
       "7         45\n",
       "X          8\n",
       "10 S       8\n",
       "Name: count, dtype: int64"
      ]
     },
     "execution_count": 153,
     "metadata": {},
     "output_type": "execute_result"
    }
   ],
   "source": [
    "laptops[\"os_version\"].value_counts(dropna=False)"
   ]
  },
  {
   "cell_type": "code",
   "execution_count": 154,
   "metadata": {},
   "outputs": [],
   "source": [
    "os_with_null_v = laptops.loc[laptops[\"os_version\"].isnull(), \"os\"]"
   ]
  },
  {
   "cell_type": "code",
   "execution_count": 155,
   "metadata": {},
   "outputs": [
    {
     "data": {
      "text/plain": [
       "os\n",
       "No OS        66\n",
       "Linux        62\n",
       "Chrome OS    27\n",
       "macOS        13\n",
       "Android       2\n",
       "Name: count, dtype: int64"
      ]
     },
     "execution_count": 155,
     "metadata": {},
     "output_type": "execute_result"
    }
   ],
   "source": [
    "os_with_null_v.value_counts()"
   ]
  },
  {
   "cell_type": "markdown",
   "metadata": {},
   "source": [
    "The most frequent value is \"No OS\"; Thirteen of the laptops that come with macOS do not specify the version. os_version of macOS should be equal to X."
   ]
  },
  {
   "cell_type": "code",
   "execution_count": 156,
   "metadata": {},
   "outputs": [],
   "source": [
    "laptops.loc[laptops[\"os\"] == \"macOS\", \"os_version\"] = \"X\""
   ]
  },
  {
   "cell_type": "code",
   "execution_count": 157,
   "metadata": {},
   "outputs": [],
   "source": [
    "laptops.loc[laptops[\"os\"] == \"No OS\", \"os_version\"] = \"Version Unknown\""
   ]
  },
  {
   "cell_type": "code",
   "execution_count": 158,
   "metadata": {},
   "outputs": [],
   "source": [
    "laptops.to_csv(\"laptops_cleaned.csv\", index=False)"
   ]
  },
  {
   "cell_type": "code",
   "execution_count": 159,
   "metadata": {},
   "outputs": [],
   "source": [
    "# Analysis Questions: Are laptops made by Apple more expensive than those made by other manufacturers?\n",
    "m_price = {}\n",
    "for m in laptops[\"manufacturer\"].unique():\n",
    "    avg_price = laptops.loc[laptops[\"manufacturer\"] == m, \"price_euros\"].mean()\n",
    "    m_price[m] = avg_price"
   ]
  },
  {
   "cell_type": "code",
   "execution_count": 160,
   "metadata": {},
   "outputs": [],
   "source": [
    "sorted_m_price = sorted(m_price.items(), key=lambda x: x[1], reverse=True)"
   ]
  },
  {
   "cell_type": "code",
   "execution_count": 161,
   "metadata": {},
   "outputs": [
    {
     "data": {
      "text/plain": [
       "[('Razer', 3346.1428571428573),\n",
       " ('LG', 2099.0),\n",
       " ('MSI', 1728.9081481481483),\n",
       " ('Google', 1677.6666666666667),\n",
       " ('Microsoft', 1612.3083333333334),\n",
       " ('Apple', 1564.1985714285713),\n",
       " ('Huawei', 1424.0),\n",
       " ('Samsung', 1413.4444444444443),\n",
       " ('Toshiba', 1267.8125),\n",
       " ('Dell', 1186.06898989899),\n",
       " ('Xiaomi', 1133.4625),\n",
       " ('Asus', 1104.1693670886077),\n",
       " ('Lenovo', 1086.3844444444446),\n",
       " ('HP', 1067.7748540145985),\n",
       " ('Fujitsu', 729.0),\n",
       " ('Acer', 626.7758252427185),\n",
       " ('Chuwi', 314.2966666666667),\n",
       " ('Mediacom', 295.0),\n",
       " ('Vero', 217.425)]"
      ]
     },
     "execution_count": 161,
     "metadata": {},
     "output_type": "execute_result"
    }
   ],
   "source": [
    "sorted_m_price"
   ]
  },
  {
   "cell_type": "markdown",
   "metadata": {},
   "source": [
    "Apple laptops are more expensive than many other brands like Dell, Asus, Lenovo, HP, Acer, etc.\n",
    "However, there are brands like Razer, LG, MSI, Google, and Microsoft that, on average, offer laptops at a higher price point than Apple.\n",
    "So, while Apple laptops are certainly among the more expensive brands on the market, they are not the most expensive when compared to all other manufacturers. It's important to note that averages can be influenced by the range of products offered - some brands might have a wider range of prices (from budget to high-end), while others might focus only on premium segments."
   ]
  },
  {
   "cell_type": "markdown",
   "metadata": {},
   "source": [
    "For a general-purpose laptop, you might consider:\n",
    "\n",
    "- Processor (CPU) Performance: Speed and number of cores.\n",
    "- Graphics Performance (GPU): Especially important for gaming or graphic-intensive tasks.\n",
    "- RAM: More RAM typically means better multitasking and performance.\n",
    "- Storage: SSDs offer faster performance than HDDs. Consider both size and type of storage.\n",
    "- Battery Life: Important for portability and convenience.\n",
    "- Others:\n",
    "Build Quality and Design: Durability and aesthetics.\n",
    "Additional Features: Such as keyboard quality, number of ports, webcam, etc."
   ]
  },
  {
   "cell_type": "code",
   "execution_count": 200,
   "metadata": {},
   "outputs": [
    {
     "name": "stdout",
     "output_type": "stream",
     "text": [
      "                                   model_name       os  total_score\n",
      "2                                      250 G6    No OS          2.9\n",
      "1182                              Vostro 5568    Linux          2.9\n",
      "450       15-bs024nv (i5-7200U/8GB/128GB/W10)  Windows          2.9\n",
      "747                                    250 G6  Windows          2.9\n",
      "86                        Pavilion 15-CK000nv  Windows          2.9\n",
      "671              V310-15ISK (i5-7200U/8GB/1TB  Windows          2.9\n",
      "797                             Latitude 3580  Windows          2.9\n",
      "501     15-BS026nv (i5-7200U/8GB/256GB/Radeon  Windows          2.9\n",
      "24    15-BS101nv (i7-8550U/8GB/256GB/FHD/W10)  Windows          2.9\n",
      "1133                                   250 G6  Windows          2.9\n",
      "1170                                   250 G5  Windows          2.9\n",
      "178              V310-15IKB (i5-7200U/8GB/1TB  Windows          2.9\n",
      "100     15-bs017nv (i7-7500U/8GB/256GB/Radeon  Windows          2.9\n",
      "64                                     250 G6  Windows          2.9\n",
      "1206      15-bs025nv (i5-7200U/8GB/256GB/W10)  Windows          2.9\n",
      "87                                     250 G6  Windows          2.9\n",
      "56    15-bs002nv (i3-6006U/4GB/128GB/FHD/W10)  Windows          2.8\n",
      "850                                    250 G6    No OS          2.8\n",
      "992            V110-15IAP (N3350/4GB/128GB/No    No OS          2.8\n",
      "1040                           Yoga 500-15ISK  Windows          2.8\n"
     ]
    },
    {
     "name": "stderr",
     "output_type": "stream",
     "text": [
      "/var/folders/97/r7d175650dg4fx0f_n5km01w0000gn/T/ipykernel_26901/2242686365.py:24: SettingWithCopyWarning: \n",
      "A value is trying to be set on a copy of a slice from a DataFrame.\n",
      "Try using .loc[row_indexer,col_indexer] = value instead\n",
      "\n",
      "See the caveats in the documentation: https://pandas.pydata.org/pandas-docs/stable/user_guide/indexing.html#returning-a-view-versus-a-copy\n",
      "  laptops_over15[\"ram_score\"] = pd.cut(laptops_over15[\"ram_gb\"], bins=bins, labels=labels, right=False).astype(int)\n",
      "/var/folders/97/r7d175650dg4fx0f_n5km01w0000gn/T/ipykernel_26901/2242686365.py:27: SettingWithCopyWarning: \n",
      "A value is trying to be set on a copy of a slice from a DataFrame.\n",
      "Try using .loc[row_indexer,col_indexer] = value instead\n",
      "\n",
      "See the caveats in the documentation: https://pandas.pydata.org/pandas-docs/stable/user_guide/indexing.html#returning-a-view-versus-a-copy\n",
      "  laptops_over15[\"cpu_score\"] = laptops_over15[\"cpu_manufacturer\"].map(cpu_map).fillna(1)\n",
      "/var/folders/97/r7d175650dg4fx0f_n5km01w0000gn/T/ipykernel_26901/2242686365.py:30: SettingWithCopyWarning: \n",
      "A value is trying to be set on a copy of a slice from a DataFrame.\n",
      "Try using .loc[row_indexer,col_indexer] = value instead\n",
      "\n",
      "See the caveats in the documentation: https://pandas.pydata.org/pandas-docs/stable/user_guide/indexing.html#returning-a-view-versus-a-copy\n",
      "  laptops_over15[\"storage_score\"] = laptops_over15[\"storage\"].apply(storage_function)\n",
      "/var/folders/97/r7d175650dg4fx0f_n5km01w0000gn/T/ipykernel_26901/2242686365.py:34: SettingWithCopyWarning: \n",
      "A value is trying to be set on a copy of a slice from a DataFrame.\n",
      "Try using .loc[row_indexer,col_indexer] = value instead\n",
      "\n",
      "See the caveats in the documentation: https://pandas.pydata.org/pandas-docs/stable/user_guide/indexing.html#returning-a-view-versus-a-copy\n",
      "  laptops_over15[\"price_score\"] = pd.cut(laptops_over15[\"price_euros\"], bins=price_bins, labels=price_labels, right=False).astype(int)\n",
      "/var/folders/97/r7d175650dg4fx0f_n5km01w0000gn/T/ipykernel_26901/2242686365.py:38: SettingWithCopyWarning: \n",
      "A value is trying to be set on a copy of a slice from a DataFrame.\n",
      "Try using .loc[row_indexer,col_indexer] = value instead\n",
      "\n",
      "See the caveats in the documentation: https://pandas.pydata.org/pandas-docs/stable/user_guide/indexing.html#returning-a-view-versus-a-copy\n",
      "  laptops_over15[\"weight_score\"] = pd.cut(laptops_over15[\"weight_kg\"], bins=weight_bins, labels=weight_labels, right=False).astype(int)\n",
      "/var/folders/97/r7d175650dg4fx0f_n5km01w0000gn/T/ipykernel_26901/2242686365.py:45: SettingWithCopyWarning: \n",
      "A value is trying to be set on a copy of a slice from a DataFrame.\n",
      "Try using .loc[row_indexer,col_indexer] = value instead\n",
      "\n",
      "See the caveats in the documentation: https://pandas.pydata.org/pandas-docs/stable/user_guide/indexing.html#returning-a-view-versus-a-copy\n",
      "  laptops_over15[\"weighted_\" + feature] =  laptops_over15[feature + \"_score\"] * weight\n",
      "/var/folders/97/r7d175650dg4fx0f_n5km01w0000gn/T/ipykernel_26901/2242686365.py:45: SettingWithCopyWarning: \n",
      "A value is trying to be set on a copy of a slice from a DataFrame.\n",
      "Try using .loc[row_indexer,col_indexer] = value instead\n",
      "\n",
      "See the caveats in the documentation: https://pandas.pydata.org/pandas-docs/stable/user_guide/indexing.html#returning-a-view-versus-a-copy\n",
      "  laptops_over15[\"weighted_\" + feature] =  laptops_over15[feature + \"_score\"] * weight\n",
      "/var/folders/97/r7d175650dg4fx0f_n5km01w0000gn/T/ipykernel_26901/2242686365.py:45: SettingWithCopyWarning: \n",
      "A value is trying to be set on a copy of a slice from a DataFrame.\n",
      "Try using .loc[row_indexer,col_indexer] = value instead\n",
      "\n",
      "See the caveats in the documentation: https://pandas.pydata.org/pandas-docs/stable/user_guide/indexing.html#returning-a-view-versus-a-copy\n",
      "  laptops_over15[\"weighted_\" + feature] =  laptops_over15[feature + \"_score\"] * weight\n",
      "/var/folders/97/r7d175650dg4fx0f_n5km01w0000gn/T/ipykernel_26901/2242686365.py:45: SettingWithCopyWarning: \n",
      "A value is trying to be set on a copy of a slice from a DataFrame.\n",
      "Try using .loc[row_indexer,col_indexer] = value instead\n",
      "\n",
      "See the caveats in the documentation: https://pandas.pydata.org/pandas-docs/stable/user_guide/indexing.html#returning-a-view-versus-a-copy\n",
      "  laptops_over15[\"weighted_\" + feature] =  laptops_over15[feature + \"_score\"] * weight\n",
      "/var/folders/97/r7d175650dg4fx0f_n5km01w0000gn/T/ipykernel_26901/2242686365.py:45: SettingWithCopyWarning: \n",
      "A value is trying to be set on a copy of a slice from a DataFrame.\n",
      "Try using .loc[row_indexer,col_indexer] = value instead\n",
      "\n",
      "See the caveats in the documentation: https://pandas.pydata.org/pandas-docs/stable/user_guide/indexing.html#returning-a-view-versus-a-copy\n",
      "  laptops_over15[\"weighted_\" + feature] =  laptops_over15[feature + \"_score\"] * weight\n",
      "/var/folders/97/r7d175650dg4fx0f_n5km01w0000gn/T/ipykernel_26901/2242686365.py:47: SettingWithCopyWarning: \n",
      "A value is trying to be set on a copy of a slice from a DataFrame.\n",
      "Try using .loc[row_indexer,col_indexer] = value instead\n",
      "\n",
      "See the caveats in the documentation: https://pandas.pydata.org/pandas-docs/stable/user_guide/indexing.html#returning-a-view-versus-a-copy\n",
      "  laptops_over15[\"total_score\"] = laptops_over15[weighted_cols].sum(axis = 1)\n"
     ]
    }
   ],
   "source": [
    "# Q2: What is the best value laptop with a screen size of 15\" or more?\n",
    "import numpy as np\n",
    "\n",
    "laptops_over15 = laptops[laptops[\"screen_size_inches\"] >= 15]\n",
    "\n",
    "# Define weights (based on personal needs)\n",
    "weights = {\"cpu\": 0.1, \"ram\": 0.1, \"storage\": 0.1, \"price\": 0.5, \"weight\": 0.2}\n",
    "\n",
    "# Score the features (assuming they are numeric)\n",
    "# For simplicity,  ram 8,16,24 gb - score 1,2,3\n",
    "# cpu Intel, AMD, Samsung - score 3,2,1\n",
    "# storage HDD 3 SSD 2 others 1\n",
    "# price 499, 899, 1299 - score 3,2,1\n",
    "# weight 1, 2, 3 - score 3,2,1\n",
    "\n",
    "\n",
    "bins = [2, 8, 16, np.inf]  # Defines the ranges: 0-8, 8-16, >16\n",
    "labels = [1, 2, 3]  # Score for each bin\n",
    "laptops_over15[\"ram_score\"] = pd.cut(\n",
    "    laptops_over15[\"ram_gb\"], bins=bins, labels=labels, right=False\n",
    ").astype(int)\n",
    "\n",
    "cpu_map = {\"Intel\": 3, \"AMD\": 2}\n",
    "laptops_over15[\"cpu_score\"] = laptops_over15[\"cpu_manufacturer\"].map(cpu_map).fillna(1)\n",
    "\n",
    "storage_function = lambda x: 3 if \"SSD\" in x else (1 if \"HDD\" in x else 2)\n",
    "laptops_over15[\"storage_score\"] = laptops_over15[\"storage\"].apply(storage_function)\n",
    "\n",
    "price_bins = [0.0, 899.0, 1299.0, np.inf]\n",
    "price_labels = [3, 2, 1]\n",
    "laptops_over15[\"price_score\"] = pd.cut(\n",
    "    laptops_over15[\"price_euros\"], bins=price_bins, labels=price_labels, right=False\n",
    ").astype(int)\n",
    "\n",
    "weight_bins = [1.0, 2.0, 3.0, np.inf]\n",
    "weight_labels = [3, 2, 1]\n",
    "laptops_over15[\"weight_score\"] = pd.cut(\n",
    "    laptops_over15[\"weight_kg\"], bins=weight_bins, labels=weight_labels, right=False\n",
    ").astype(int)\n",
    "\n",
    "\n",
    "# Calculate the total score\n",
    "weighted_cols = []\n",
    "for feature, weight in weights.items():\n",
    "    laptops_over15[\"weighted_\" + feature] = laptops_over15[feature + \"_score\"] * weight\n",
    "    weighted_cols.append(\"weighted_\" + feature)\n",
    "laptops_over15[\"total_score\"] = laptops_over15[weighted_cols].sum(axis=1)\n",
    "\n",
    "# Rank laptops based on value score\n",
    "laptops_over15 = laptops_over15.sort_values(by=\"total_score\", ascending=False)\n",
    "\n",
    "# Display top 10 laptops\n",
    "print(laptops_over15[[\"model_name\", \"os\", \"total_score\"]].head(20))"
   ]
  },
  {
   "cell_type": "code",
   "execution_count": 201,
   "metadata": {},
   "outputs": [
    {
     "data": {
      "text/plain": [
       "manufacturer                                Dell\n",
       "model_name                           Vostro 5568\n",
       "category                                Notebook\n",
       "screen_size_inches                          15.6\n",
       "screen                         Full HD 1920x1080\n",
       "cpu                   Intel Core i7 7500U 2.7GHz\n",
       "ram_gb                                         8\n",
       "storage                                256GB SSD\n",
       "gpu                      Nvidia GeForce GT 940MX\n",
       "os                                         Linux\n",
       "os_version                                   NaN\n",
       "weight_kg                                   1.98\n",
       "price_euros                               895.01\n",
       "cpu_manufacturer                           Intel\n",
       "gpu_manufacturer                          Nvidia\n",
       "ram_score                                      2\n",
       "cpu_score                                      3\n",
       "storage_score                                  3\n",
       "price_score                                    3\n",
       "weight_score                                   3\n",
       "weighted_cpu                                 0.3\n",
       "weighted_ram                                 0.2\n",
       "weighted_storage                             0.3\n",
       "weighted_price                               1.5\n",
       "weighted_weight                              0.6\n",
       "total_score                                  2.9\n",
       "Name: 1182, dtype: object"
      ]
     },
     "execution_count": 201,
     "metadata": {},
     "output_type": "execute_result"
    }
   ],
   "source": [
    "laptops_over15.loc[1182]"
   ]
  },
  {
   "cell_type": "markdown",
   "metadata": {},
   "source": [
    "As the customer weighted the laptop's price as the most important factor, weight the second.  Vostro 5568  with 1.98kg and 895.01 euros is one of the best-valued among the larger-than-15-inch laptops.\n",
    "\n",
    "Ideal for users requiring a balance between performance and price, such as small business owners, students, or professionals who don't need a Windows-based system.\n",
    "\n",
    "Good for tasks requiring moderate to high CPU and GPU performance, but might not suit users who need top-tier gaming or intensive graphics capabilities.\n",
    "\n",
    "Customer Reviews could be combined to provide a more comprehensive evaluation of \"best-values\""
   ]
  }
 ],
 "metadata": {
  "kernelspec": {
   "display_name": "base",
   "language": "python",
   "name": "python3"
  },
  "language_info": {
   "codemirror_mode": {
    "name": "ipython",
    "version": 3
   },
   "file_extension": ".py",
   "mimetype": "text/x-python",
   "name": "python",
   "nbconvert_exporter": "python",
   "pygments_lexer": "ipython3",
   "version": "3.11.5"
  }
 },
 "nbformat": 4,
 "nbformat_minor": 2
}
